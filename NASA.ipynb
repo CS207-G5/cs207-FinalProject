{
 "cells": [
  {
   "cell_type": "code",
   "execution_count": 1,
   "metadata": {
    "collapsed": true
   },
   "outputs": [],
   "source": [
    "import xml.etree.cElementTree as ET"
   ]
  },
  {
   "cell_type": "code",
   "execution_count": 7,
   "metadata": {
    "collapsed": true
   },
   "outputs": [],
   "source": [
    "with open('NASA.txt') as file:\n",
    "    data=file.readlines()"
   ]
  },
  {
   "cell_type": "code",
   "execution_count": 8,
   "metadata": {
    "collapsed": false
   },
   "outputs": [],
   "source": [
    "data=data[5:-5]"
   ]
  },
  {
   "cell_type": "code",
   "execution_count": 10,
   "metadata": {
    "collapsed": true
   },
   "outputs": [],
   "source": [
    "dic={}\n",
    "i=0\n",
    "while i*4<len(data):\n",
    "    [first,second,third,fourth]=[data[i*4].split(),data[i*4+1],data[i*4+2],data[i*4+3]]\n",
    "    i+=1\n",
    "    \n",
    "    name=first[0]\n",
    "    Tmin=first[-4]\n",
    "    Tmax=first[-3]\n",
    "    Tmid=first[-2]\n",
    "    \n",
    "    high_lst=[]\n",
    "    low_lst=[]\n",
    "    for j in range(5):\n",
    "        high_lst.append(second[j*15:(j+1)*15])\n",
    "    for j in range(2):\n",
    "        high_lst.append(third[j*15:(j+1)*15])\n",
    "    for j in range(2,5):\n",
    "        low_lst.append(third[j*15:(j+1)*15])\n",
    "    for j in range(4):\n",
    "        low_lst.append(fourth[j*15:(j+1)*15])\n",
    "    \n",
    "    dic[name]=[Tmin,Tmid,Tmax,low_lst,high_lst]\n",
    "\n",
    "speciesLst=[]\n",
    "for name in dic.keys():\n",
    "    speciesLst.append(name)"
   ]
  },
  {
   "cell_type": "code",
   "execution_count": 13,
   "metadata": {
    "collapsed": true
   },
   "outputs": [],
   "source": [
    "root = ET.Element(\"CHEM\")\n",
    "ET.SubElement(root, \"speciesArray\").text=\" \".join(speciesLst)\n",
    "\n",
    "for n in dic.keys():\n",
    "    sub=ET.SubElement(root, \"species\", name=n)\n",
    "    sub1=ET.SubElement(sub,\"NASA\", Tmax=dic[n][1], Tmin=dic[n][0])\n",
    "    ET.SubElement(sub1, \"floatArray\",name=\"coeffs\", size=\"7\").text=\",\".join(dic[n][3])\n",
    "    sub2=ET.SubElement(sub,\"NASA\", Tmax=dic[n][2], Tmin=dic[n][1])\n",
    "    ET.SubElement(sub2, \"floatArray\",name=\"coeffs\", size=\"7\").text=\",\".join(dic[n][4])\n",
    "\n",
    "tree = ET.ElementTree(root)\n",
    "tree.write(\"temp.xml\")"
   ]
  },
  {
   "cell_type": "code",
   "execution_count": 14,
   "metadata": {
    "collapsed": true
   },
   "outputs": [],
   "source": [
    "### Pretty Print ###\n",
    "import lxml.etree as etree\n",
    "\n",
    "x = etree.parse(\"temp.xml\")\n",
    "file=etree.tostring(x, pretty_print=True)\n",
    "text_file = open(\"NASA.xml\", \"wb\")\n",
    "text_file.write(file)\n",
    "text_file.close()"
   ]
  },
  {
   "cell_type": "code",
   "execution_count": null,
   "metadata": {
    "collapsed": true
   },
   "outputs": [],
   "source": []
  }
 ],
 "metadata": {
  "anaconda-cloud": {},
  "kernelspec": {
   "display_name": "Python [python3]",
   "language": "python",
   "name": "Python [python3]"
  },
  "language_info": {
   "codemirror_mode": {
    "name": "ipython",
    "version": 3
   },
   "file_extension": ".py",
   "mimetype": "text/x-python",
   "name": "python",
   "nbconvert_exporter": "python",
   "pygments_lexer": "ipython3",
   "version": "3.5.4"
  }
 },
 "nbformat": 4,
 "nbformat_minor": 0
}
