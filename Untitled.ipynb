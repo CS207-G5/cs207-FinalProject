{
 "cells": [
  {
   "cell_type": "code",
   "execution_count": 4,
   "metadata": {},
   "outputs": [
    {
     "name": "stdout",
     "output_type": "stream",
     "text": [
      "1 items had no tests:\n",
      "    __main__\n",
      "0 tests in 1 items.\n",
      "0 passed and 0 failed.\n",
      "Test passed.\n"
     ]
    },
    {
     "data": {
      "text/plain": [
       "TestResults(failed=0, attempted=0)"
      ]
     },
     "execution_count": 4,
     "metadata": {},
     "output_type": "execute_result"
    }
   ],
   "source": [
    "import doctest\n",
    "doctest.testmod(verbose=True)"
   ]
  },
  {
   "cell_type": "code",
   "execution_count": 34,
   "metadata": {},
   "outputs": [
    {
     "name": "stdout",
     "output_type": "stream",
     "text": [
      "\u001b[1m============================= test session starts ==============================\u001b[0m\n",
      "platform darwin -- Python 3.6.1, pytest-3.0.7, py-1.4.33, pluggy-0.4.0\n",
      "rootdir: /Users/zhaiyi/cs207-FinalProject, inifile: setup.cfg\n",
      "plugins: cov-2.5.1\n",
      "collected 16 items \u001b[0m\u001b[1m[1m\n",
      "\u001b[0m\n",
      "chemkin.py ..\n",
      "reaction_coeffs.py ...\n",
      "test_chemkin.py ......\n",
      "test_rxn.py ...FF\n",
      "\n",
      "---------- coverage: platform darwin, python 3.6.1-final-0 -----------\n",
      "Name                 Stmts   Miss  Cover   Missing\n",
      "--------------------------------------------------\n",
      "chemkin.py              31      2    94%   130, 160\n",
      "reaction_coeffs.py      33      0   100%\n",
      "rxn_from_file.py        46      2    96%   43, 59\n",
      "test_chemkin.py         25      0   100%\n",
      "test_rxn.py             24      0   100%\n",
      "--------------------------------------------------\n",
      "TOTAL                  159      4    97%\n",
      "\n",
      "\n",
      "=================================== FAILURES ===================================\n",
      "\u001b[31m\u001b[1m____________________________________ test_B ____________________________________\u001b[0m\n",
      "\n",
      "\u001b[1m    def test_B():\u001b[0m\n",
      "\u001b[1m        print(list(rx.compute(\"rxns_b.xml\")))\u001b[0m\n",
      "\u001b[1m>       assert list(rx.compute(\"rxns_b.xml\"))==[8.19416853e-15,-8.19416853e-15,8.19416853e-15,-8.19416853e-15,-1.17317693e-26]\u001b[0m\n",
      "\u001b[1m\u001b[31mE       assert [8.1941685272...337224591e-26] == [8.19416853e-1....17317693e-26]\u001b[0m\n",
      "\u001b[1m\u001b[31mE         At index 0 diff: 8.194168527276232e-15 != 8.19416853e-15\u001b[0m\n",
      "\u001b[1m\u001b[31mE         Use -v to get the full diff\u001b[0m\n",
      "\n",
      "\u001b[1m\u001b[31mtest_rxn.py\u001b[0m:26: AssertionError\n",
      "----------------------------- Captured stdout call -----------------------------\n",
      "[8.194168527276232e-15, -8.194168527276232e-15, 8.1941685272996958e-15, -8.1941685272879639e-15, -1.1731769337224591e-26]\n",
      "\u001b[31m\u001b[1m____________________________________ test_T ____________________________________\u001b[0m\n",
      "\n",
      "\u001b[1m    def test_T():\u001b[0m\n",
      "\u001b[1m        print(list(rx.compute(\"rxns_t.xml\")))\u001b[0m\n",
      "\u001b[1m>       assert list(rx.compute(\"rxns_t.xml\"))==[5.38119498e+01,-5.38119498e+01,5.38145831e+01,-5.38132664e+01,-1.31667343e-03]\u001b[0m\n",
      "\u001b[1m\u001b[31mE       assert [53.811949752...6734310555181] == [53.8119498, -...0.00131667343]\u001b[0m\n",
      "\u001b[1m\u001b[31mE         At index 0 diff: 53.811949752854751 != 53.8119498\u001b[0m\n",
      "\u001b[1m\u001b[31mE         Use -v to get the full diff\u001b[0m\n",
      "\n",
      "\u001b[1m\u001b[31mtest_rxn.py\u001b[0m:30: AssertionError\n",
      "----------------------------- Captured stdout call -----------------------------\n",
      "[53.811949752854751, -53.811949752854751, 53.814583099716863, -53.813266426285807, -0.0013166734310555181]\n",
      "\u001b[31m\u001b[1m===================== 2 failed, 14 passed in 0.41 seconds ======================\u001b[0m\n"
     ]
    }
   ],
   "source": [
    "!pytest --cov"
   ]
  },
  {
   "cell_type": "code",
   "execution_count": 28,
   "metadata": {},
   "outputs": [
    {
     "ename": "SyntaxError",
     "evalue": "invalid syntax (<ipython-input-28-cd82ea7eec9a>, line 1)",
     "output_type": "error",
     "traceback": [
      "\u001b[0;36m  File \u001b[0;32m\"<ipython-input-28-cd82ea7eec9a>\"\u001b[0;36m, line \u001b[0;32m1\u001b[0m\n\u001b[0;31m    all(rx.compute(\"rxns_b.xml\")==[  8.19416853e-15  -8.19416853e-15   8.19416853e-15  -8.19416853e-15\u001b[0m\n\u001b[0m                                                                                    ^\u001b[0m\n\u001b[0;31mSyntaxError\u001b[0m\u001b[0;31m:\u001b[0m invalid syntax\n"
     ]
    }
   ],
   "source": [
    "all(rx.compute(\"rxns_b.xml\")==[  8.19416853e-15  -8.19416853e-15   8.19416853e-15  -8.19416853e-15\n",
    "  -1.17317693e-26])"
   ]
  },
  {
   "cell_type": "code",
   "execution_count": 19,
   "metadata": {},
   "outputs": [
    {
     "data": {
      "text/plain": [
       "[2.05828207e-09,\n",
       " -2.05828207e-09,\n",
       " 2.05828207e-09,\n",
       " -2.05828207e-09,\n",
       " -4.6705015e-28]"
      ]
     },
     "execution_count": 19,
     "metadata": {},
     "output_type": "execute_result"
    }
   ],
   "source": [
    "[2.05828207e-09,-2.05828207e-09,2.05828207e-09,-2.05828207e-09,-4.67050150e-28]\n"
   ]
  },
  {
   "cell_type": "code",
   "execution_count": null,
   "metadata": {
    "collapsed": true
   },
   "outputs": [],
   "source": []
  }
 ],
 "metadata": {
  "kernelspec": {
   "display_name": "Python 3",
   "language": "python",
   "name": "python3"
  },
  "language_info": {
   "codemirror_mode": {
    "name": "ipython",
    "version": 3
   },
   "file_extension": ".py",
   "mimetype": "text/x-python",
   "name": "python",
   "nbconvert_exporter": "python",
   "pygments_lexer": "ipython3",
   "version": "3.6.1"
  }
 },
 "nbformat": 4,
 "nbformat_minor": 2
}
