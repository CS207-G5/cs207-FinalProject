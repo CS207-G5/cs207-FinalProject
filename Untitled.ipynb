{
 "cells": [
  {
   "cell_type": "code",
   "execution_count": 1,
   "metadata": {},
   "outputs": [
    {
     "name": "stdout",
     "output_type": "stream",
     "text": [
      "\u001b[1m============================= test session starts ==============================\u001b[0m\n",
      "platform darwin -- Python 3.6.1, pytest-3.0.7, py-1.4.33, pluggy-0.4.0\n",
      "rootdir: /Users/zhaiyi/cs207-FinalProject, inifile: setup.cfg\n",
      "plugins: cov-2.5.1\n",
      "collected 16 items \u001b[0m\u001b[1m[1m\n",
      "\u001b[0m\n",
      "chemkin.py F.\n",
      "reaction_coeffs.py ...\n",
      "test_chemkin.py ......\n",
      "test_rxn.py .....\n",
      "\n",
      "---------- coverage: platform darwin, python 3.6.1-final-0 -----------\n",
      "Name                   Stmts   Miss  Cover   Missing\n",
      "----------------------------------------------------\n",
      "chemkin.py                48      3    94%   122, 155, 186\n",
      "cli_rxn_from_file.py       4      1    75%   13\n",
      "reaction_coeffs.py        33      0   100%\n",
      "rxn_from_file.py          46      2    96%   40, 56\n",
      "test_chemkin.py           28      0   100%\n",
      "test_rxn.py               24      0   100%\n",
      "----------------------------------------------------\n",
      "TOTAL                    183      6    97%\n",
      "\n",
      "\n",
      "=================================== FAILURES ===================================\n",
      "\u001b[31m\u001b[1m__________________ [doctest] chemkin.ElementaryRxn.prog_rate ___________________\u001b[0m\n",
      "026         k:       a numeric value\n",
      "027                  reaction rate coefficient\n",
      "028 \n",
      "029         RETURNS\n",
      "030         =======\n",
      "031         omega:   the progress rate for the reaction, numeric\n",
      "032 \n",
      "033         EXAMPLES\n",
      "034         =======\n",
      "035         >>> ElementaryRxn([1, 2, 4], 10).prog_rate([2, 1, 0])\n",
      "Expected:\n",
      "    20\n",
      "Got:\n",
      "    0\n",
      "\n",
      "\u001b[1m\u001b[31m/Users/zhaiyi/cs207-FinalProject/chemkin.py\u001b[0m:35: DocTestFailure\n",
      "\u001b[31m\u001b[1m===================== 1 failed, 15 passed in 0.36 seconds ======================\u001b[0m\n"
     ]
    }
   ],
   "source": [
    "!pytest"
   ]
  },
  {
   "cell_type": "code",
   "execution_count": null,
   "metadata": {
    "collapsed": true
   },
   "outputs": [],
   "source": []
  },
  {
   "cell_type": "code",
   "execution_count": null,
   "metadata": {
    "collapsed": true
   },
   "outputs": [],
   "source": []
  }
 ],
 "metadata": {
  "kernelspec": {
   "display_name": "Python 3",
   "language": "python",
   "name": "python3"
  },
  "language_info": {
   "codemirror_mode": {
    "name": "ipython",
    "version": 3
   },
   "file_extension": ".py",
   "mimetype": "text/x-python",
   "name": "python",
   "nbconvert_exporter": "python",
   "pygments_lexer": "ipython3",
   "version": "3.6.1"
  }
 },
 "nbformat": 4,
 "nbformat_minor": 2
}
