{
 "cells": [
  {
   "cell_type": "code",
   "execution_count": 4,
   "metadata": {},
   "outputs": [
    {
     "name": "stdout",
     "output_type": "stream",
     "text": [
      "1 items had no tests:\n",
      "    __main__\n",
      "0 tests in 1 items.\n",
      "0 passed and 0 failed.\n",
      "Test passed.\n"
     ]
    },
    {
     "data": {
      "text/plain": [
       "TestResults(failed=0, attempted=0)"
      ]
     },
     "execution_count": 4,
     "metadata": {},
     "output_type": "execute_result"
    }
   ],
   "source": [
    "import doctest\n",
    "doctest.testmod(verbose=True)"
   ]
  },
  {
   "cell_type": "code",
   "execution_count": 8,
   "metadata": {},
   "outputs": [
    {
     "name": "stdout",
     "output_type": "stream",
     "text": [
      "\u001b[1m============================= test session starts ==============================\u001b[0m\n",
      "platform darwin -- Python 3.6.1, pytest-3.0.7, py-1.4.33, pluggy-0.4.0\n",
      "rootdir: /Users/zhaiyi/cs207-FinalProject, inifile: setup.cfg\n",
      "plugins: cov-2.5.1\n",
      "collected 16 items \u001b[0m\u001b[1m\n",
      "\u001b[0m\n",
      "chemkin.py ..\n",
      "reaction_coeffs.py ...\n",
      "test_chemkin.py ......\n",
      "test_rxn.py FFFFF\n",
      "\n",
      "---------- coverage: platform darwin, python 3.6.1-final-0 -----------\n",
      "Name                 Stmts   Miss  Cover   Missing\n",
      "--------------------------------------------------\n",
      "chemkin.py              31      2    94%   130, 160\n",
      "reaction_coeffs.py      33      0   100%\n",
      "rxn_from_file.py        46     40    13%   15-71\n",
      "test_chemkin.py         25      0   100%\n",
      "test_rxn.py             22      2    91%   15, 20\n",
      "--------------------------------------------------\n",
      "TOTAL                  157     44    72%\n",
      "\n",
      "\n",
      "=================================== FAILURES ===================================\n",
      "\u001b[31m\u001b[1m_________________________________ test_normal __________________________________\u001b[0m\n",
      "\n",
      "\u001b[1m    def test_normal():\u001b[0m\n",
      "\u001b[1m>       assert all(rx.compute(rxns.xml)==[2.05828207e-09,-2.05828207e-09,2.05828207e-09,-2.05828207e-09,-4.67050150e-28])\u001b[0m\n",
      "\u001b[1m\u001b[31mE       NameError: name 'rxns' is not defined\u001b[0m\n",
      "\n",
      "\u001b[1m\u001b[31mtest_rxn.py\u001b[0m:10: NameError\n",
      "\u001b[31m\u001b[1m____________________________________ test_A ____________________________________\u001b[0m\n",
      "\n",
      "\u001b[1m    def test_A():\u001b[0m\n",
      "\u001b[1m        try:\u001b[0m\n",
      "\u001b[1m>           rx.compute(rxns_a.xml)\u001b[0m\n",
      "\u001b[1m\u001b[31mE           NameError: name 'rxns_a' is not defined\u001b[0m\n",
      "\n",
      "\u001b[1m\u001b[31mtest_rxn.py\u001b[0m:13: NameError\n",
      "\u001b[31m\u001b[1m____________________________________ test_E ____________________________________\u001b[0m\n",
      "\n",
      "\u001b[1m    def test_E():\u001b[0m\n",
      "\u001b[1m        try:\u001b[0m\n",
      "\u001b[1m>           rx.compute(rxns_e.xml)\u001b[0m\n",
      "\u001b[1m\u001b[31mE           NameError: name 'rxns_e' is not defined\u001b[0m\n",
      "\n",
      "\u001b[1m\u001b[31mtest_rxn.py\u001b[0m:18: NameError\n",
      "\u001b[31m\u001b[1m____________________________________ test_B ____________________________________\u001b[0m\n",
      "\n",
      "\u001b[1m    def test_B():\u001b[0m\n",
      "\u001b[1m>       assert all(rx.compute(rxns_b.xml)==[8.19416853e-15,-8.19416853e-15,8.19416853e-15,-8.19416853e-15,-1.17317693e-26])\u001b[0m\n",
      "\u001b[1m\u001b[31mE       NameError: name 'rxns_b' is not defined\u001b[0m\n",
      "\n",
      "\u001b[1m\u001b[31mtest_rxn.py\u001b[0m:23: NameError\n",
      "\u001b[31m\u001b[1m____________________________________ test_T ____________________________________\u001b[0m\n",
      "\n",
      "\u001b[1m    def test_T():\u001b[0m\n",
      "\u001b[1m>       assert all(rx.compute(rxns_t.xml)==[5.38119498e+01,-5.38119498e+01,5.38145831e+01,-5.38132664e+01,-1.31667343e-03])\u001b[0m\n",
      "\u001b[1m\u001b[31mE       NameError: name 'rxns_t' is not defined\u001b[0m\n",
      "\n",
      "\u001b[1m\u001b[31mtest_rxn.py\u001b[0m:26: NameError\n",
      "\u001b[31m\u001b[1m===================== 5 failed, 11 passed in 0.40 seconds ======================\u001b[0m\n"
     ]
    }
   ],
   "source": [
    "!pytest --cov"
   ]
  },
  {
   "cell_type": "code",
   "execution_count": null,
   "metadata": {
    "collapsed": true
   },
   "outputs": [],
   "source": []
  }
 ],
 "metadata": {
  "kernelspec": {
   "display_name": "Python 3",
   "language": "python",
   "name": "python3"
  },
  "language_info": {
   "codemirror_mode": {
    "name": "ipython",
    "version": 3
   },
   "file_extension": ".py",
   "mimetype": "text/x-python",
   "name": "python",
   "nbconvert_exporter": "python",
   "pygments_lexer": "ipython3",
   "version": "3.6.1"
  }
 },
 "nbformat": 4,
 "nbformat_minor": 2
}
